{
 "cells": [
  {
   "cell_type": "markdown",
   "metadata": {},
   "source": [
    "<article class=\"day-desc\"><h2>--- Day 1: Trebuchet?! ---</h2><p>Something is wrong with global snow production, and you've been selected to take a look. The Elves have even given you a map; on it, they've used stars to mark the top fifty locations that are likely to be having problems.</p>\n",
    "<p>You've been doing this long enough to know that to restore snow operations, you need to check all <em class=\"star\">fifty stars</em> by December 25th.</p>\n",
    "<p>Collect stars by solving puzzles.  Two puzzles will be made available on each day in the Advent calendar; the second puzzle is unlocked when you complete the first.  Each puzzle grants <em class=\"star\">one star</em>. Good luck!</p>\n",
    "<p>You try to ask why they can't just use a <a href=\"/2015/day/1\">weather machine</a> (\"not powerful enough\") and where they're even sending you (\"the sky\") and why your map looks mostly blank (\"you sure ask a lot of questions\") <span title=\"My hope is that this abomination of a run-on sentence somehow conveys the chaos of being hastily loaded into a trebuchet.\">and</span> hang on did you just say the sky (\"of course, where do you think snow comes from\") when you realize that the Elves are already loading you into a <a href=\"https://en.wikipedia.org/wiki/Trebuchet\" target=\"_blank\">trebuchet</a> (\"please hold still, we need to strap you in\").</p>\n",
    "<p>As they're making the final adjustments, they discover that their calibration document (your puzzle input) has been <em>amended</em> by a very young Elf who was apparently just excited to show off her art skills. Consequently, the Elves are having trouble reading the values on the document.</p>\n",
    "<p>The newly-improved calibration document consists of lines of text; each line originally contained a specific <em>calibration value</em> that the Elves now need to recover. On each line, the calibration value can be found by combining the <em>first digit</em> and the <em>last digit</em> (in that order) to form a single <em>two-digit number</em>.</p>\n",
    "<p>For example:</p>\n",
    "<pre><code>1abc2\n",
    "pqr3stu8vwx\n",
    "a1b2c3d4e5f\n",
    "treb7uchet\n",
    "</code></pre>\n",
    "<p>In this example, the calibration values of these four lines are <code>12</code>, <code>38</code>, <code>15</code>, and <code>77</code>. Adding these together produces <code><em>142</em></code>.</p>\n",
    "<p>Consider your entire calibration document. <em>What is the sum of all of the calibration values?</em></p>\n",
    "</article>"
   ]
  },
  {
   "cell_type": "code",
   "execution_count": 1,
   "metadata": {
    "dotnet_interactive": {
     "language": "csharp"
    },
    "polyglot_notebook": {
     "kernelName": "csharp"
    },
    "vscode": {
     "languageId": "polyglot-notebook"
    }
   },
   "outputs": [],
   "source": [
    "using System;\n",
    "using System.IO;"
   ]
  },
  {
   "cell_type": "code",
   "execution_count": 55,
   "metadata": {
    "dotnet_interactive": {
     "language": "csharp"
    },
    "polyglot_notebook": {
     "kernelName": "csharp"
    },
    "vscode": {
     "languageId": "polyglot-notebook"
    }
   },
   "outputs": [
    {
     "data": {
      "text/html": [
       "<div class=\"dni-plaintext\"><pre>[ two1nine, eightwothree, abcone2threexyz, xtwone3four, 4nineeightseven2, zoneight234, 7pqrstsixteen ]</pre></div><style>\r\n",
       ".dni-code-hint {\r\n",
       "    font-style: italic;\r\n",
       "    overflow: hidden;\r\n",
       "    white-space: nowrap;\r\n",
       "}\r\n",
       ".dni-treeview {\r\n",
       "    white-space: nowrap;\r\n",
       "}\r\n",
       ".dni-treeview td {\r\n",
       "    vertical-align: top;\r\n",
       "    text-align: start;\r\n",
       "}\r\n",
       "details.dni-treeview {\r\n",
       "    padding-left: 1em;\r\n",
       "}\r\n",
       "table td {\r\n",
       "    text-align: start;\r\n",
       "}\r\n",
       "table tr { \r\n",
       "    vertical-align: top; \r\n",
       "    margin: 0em 0px;\r\n",
       "}\r\n",
       "table tr td pre \r\n",
       "{ \r\n",
       "    vertical-align: top !important; \r\n",
       "    margin: 0em 0px !important;\r\n",
       "} \r\n",
       "table th {\r\n",
       "    text-align: start;\r\n",
       "}\r\n",
       "</style>"
      ]
     },
     "metadata": {},
     "output_type": "display_data"
    }
   ],
   "source": [
    "// test case\n",
    "lines = new string[]{\n",
    "\"two1nine\",\n",
    "\"eightwothree\",\n",
    "\"abcone2threexyz\",\n",
    "\"xtwone3four\",\n",
    "\"4nineeightseven2\",\n",
    "\"zoneight234\",\n",
    "\"7pqrstsixteen\"\n",
    "}"
   ]
  },
  {
   "cell_type": "markdown",
   "metadata": {},
   "source": [
    "## Read the input and store it in string array:"
   ]
  },
  {
   "cell_type": "code",
   "execution_count": 59,
   "metadata": {
    "vscode": {
     "languageId": "polyglot-notebook"
    }
   },
   "outputs": [],
   "source": [
    "string[] lines = File.ReadAllLines(\"./inputs/day1.txt\");\n",
    "int final_result = 0;"
   ]
  },
  {
   "cell_type": "markdown",
   "metadata": {},
   "source": [
    "## solve with Linq"
   ]
  },
  {
   "cell_type": "code",
   "execution_count": 29,
   "metadata": {
    "dotnet_interactive": {
     "language": "csharp"
    },
    "polyglot_notebook": {
     "kernelName": "csharp"
    },
    "vscode": {
     "languageId": "polyglot-notebook"
    }
   },
   "outputs": [],
   "source": [
    "final_result = lines.Select(line=>line.Where(ch =>char.IsDigit(ch)).ToList())\n",
    "                .Select(numLine=>int.Parse($\"{numLine[0]}{numLine.Last()}\"))\n",
    "                .Sum();"
   ]
  },
  {
   "cell_type": "markdown",
   "metadata": {},
   "source": [
    "## Alternative way"
   ]
  },
  {
   "cell_type": "code",
   "execution_count": 28,
   "metadata": {
    "dotnet_interactive": {
     "language": "csharp"
    },
    "polyglot_notebook": {
     "kernelName": "csharp"
    },
    "vscode": {
     "languageId": "polyglot-notebook"
    }
   },
   "outputs": [],
   "source": [
    "foreach(var line in lines){\n",
    "    var numbers = line.Where(ch =>char.IsDigit(ch)).ToList();\n",
    "    final_result+= int.Parse($\"{numbers.First()}{numbers.Last()}\");\n",
    "}"
   ]
  },
  {
   "cell_type": "code",
   "execution_count": 31,
   "metadata": {
    "dotnet_interactive": {
     "language": "csharp"
    },
    "polyglot_notebook": {
     "kernelName": "csharp"
    },
    "vscode": {
     "languageId": "polyglot-notebook"
    }
   },
   "outputs": [
    {
     "name": "stdout",
     "output_type": "stream",
     "text": [
      "57346\r\n"
     ]
    }
   ],
   "source": [
    "Console.WriteLine(final_result)"
   ]
  },
  {
   "cell_type": "markdown",
   "metadata": {},
   "source": [
    "<article class=\"day-desc\"><h2 id=\"part2\">--- Part Two ---</h2><p>Your calculation isn't quite right. It looks like some of the digits are actually <em>spelled out with letters</em>: <code>one</code>, <code>two</code>, <code>three</code>, <code>four</code>, <code>five</code>, <code>six</code>, <code>seven</code>, <code>eight</code>, and <code>nine</code> <em>also</em> count as valid \"digits\".</p>\n",
    "<p>Equipped with this new information, you now need to find the real first and last digit on each line. For example:</p>\n",
    "<pre><code>two1nine\n",
    "eightwothree\n",
    "abcone2threexyz\n",
    "xtwone3four\n",
    "4nineeightseven2\n",
    "zoneight234\n",
    "7pqrstsixteen\n",
    "</code></pre>\n",
    "<p>In this example, the calibration values are <code>29</code>, <code>83</code>, <code>13</code>, <code>24</code>, <code>42</code>, <code>14</code>, and <code>76</code>. Adding these together produces <code><em>281</em></code>.</p>\n",
    "<p><em>What is the sum of all of the calibration values?</em></p>\n",
    "</article>"
   ]
  },
  {
   "cell_type": "code",
   "execution_count": 50,
   "metadata": {
    "dotnet_interactive": {
     "language": "csharp"
    },
    "polyglot_notebook": {
     "kernelName": "csharp"
    },
    "vscode": {
     "languageId": "polyglot-notebook"
    }
   },
   "outputs": [],
   "source": [
    "Dictionary<string, string> spelled_digit = new()\n",
    "    {\n",
    "            { \"one\", \"one1one\" },\n",
    "            { \"two\", \"two2two\" },\n",
    "            { \"three\", \"three3three\" },\n",
    "            { \"four\", \"four4four\" },\n",
    "            { \"five\", \"five5five\" },\n",
    "            { \"six\", \"six6six\" },\n",
    "            { \"seven\", \"seven7seven\" },\n",
    "            { \"eight\", \"eight8eight\" },\n",
    "            { \"nine\", \"nine9nine\" }\n",
    "    };\n",
    "\n",
    "static string ReplaceKeysWithValues(string inputString, Dictionary<string, string> digit)\n",
    "{\n",
    "    foreach (var d in digit)\n",
    "    {\n",
    "        inputString = inputString.Replace(d.Key, d.Value);\n",
    "    }\n",
    "\n",
    "    return inputString;\n",
    "}"
   ]
  },
  {
   "cell_type": "code",
   "execution_count": 60,
   "metadata": {
    "dotnet_interactive": {
     "language": "csharp"
    },
    "polyglot_notebook": {
     "kernelName": "csharp"
    },
    "vscode": {
     "languageId": "polyglot-notebook"
    }
   },
   "outputs": [],
   "source": [
    "var final_result2 = lines.Select(line=>ReplaceKeysWithValues(line,spelled_digit))\n",
    "                         .Select(line=>line.Where(ch =>char.IsDigit(ch)).ToList())\n",
    "                         .Select(numLine=>int.Parse($\"{numLine[0]}{numLine.Last()}\"))\n",
    "                         .Sum();"
   ]
  },
  {
   "cell_type": "code",
   "execution_count": 61,
   "metadata": {
    "dotnet_interactive": {
     "language": "csharp"
    },
    "polyglot_notebook": {
     "kernelName": "csharp"
    },
    "vscode": {
     "languageId": "polyglot-notebook"
    }
   },
   "outputs": [
    {
     "name": "stdout",
     "output_type": "stream",
     "text": [
      "57345\r\n"
     ]
    }
   ],
   "source": [
    "Console.WriteLine(final_result2)"
   ]
  }
 ],
 "metadata": {
  "language_info": {
   "name": "python"
  }
 },
 "nbformat": 4,
 "nbformat_minor": 2
}
